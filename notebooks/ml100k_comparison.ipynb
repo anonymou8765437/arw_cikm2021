{
 "cells": [
  {
   "cell_type": "code",
   "execution_count": 1,
   "metadata": {},
   "outputs": [
    {
     "ename": "ImportError",
     "evalue": "cannot import name 'top_funcs' from 'topology.cython' (unknown location)",
     "output_type": "error",
     "traceback": [
      "\u001b[0;31m---------------------------------------------------------------------------\u001b[0m",
      "\u001b[0;31mImportError\u001b[0m                               Traceback (most recent call last)",
      "\u001b[0;32m<ipython-input-1-53c1a6f34648>\u001b[0m in \u001b[0;36m<module>\u001b[0;34m\u001b[0m\n\u001b[0;32m----> 1\u001b[0;31m \u001b[0;32mfrom\u001b[0m \u001b[0mtopology\u001b[0m\u001b[0;34m.\u001b[0m\u001b[0msims\u001b[0m\u001b[0;34m.\u001b[0m\u001b[0mbase\u001b[0m \u001b[0;32mimport\u001b[0m \u001b[0mTopologySim\u001b[0m\u001b[0;34m\u001b[0m\u001b[0;34m\u001b[0m\u001b[0m\n\u001b[0m\u001b[1;32m      2\u001b[0m \u001b[0;32mfrom\u001b[0m \u001b[0mtopology\u001b[0m\u001b[0;34m.\u001b[0m\u001b[0mprivacy\u001b[0m\u001b[0;34m.\u001b[0m\u001b[0mPrivacyModule\u001b[0m \u001b[0;32mimport\u001b[0m \u001b[0;34m*\u001b[0m\u001b[0;34m\u001b[0m\u001b[0;34m\u001b[0m\u001b[0m\n\u001b[1;32m      3\u001b[0m \u001b[0;32mfrom\u001b[0m \u001b[0mtopology\u001b[0m\u001b[0;34m.\u001b[0m\u001b[0mtopologies\u001b[0m\u001b[0;34m.\u001b[0m\u001b[0mnew_topologies\u001b[0m \u001b[0;32mimport\u001b[0m \u001b[0;34m*\u001b[0m\u001b[0;31m#FederatedStarTopology,FixedHierarchicalFederatedLearningTopology,RandomWalkTopology\u001b[0m\u001b[0;34m\u001b[0m\u001b[0;34m\u001b[0m\u001b[0m\n\u001b[1;32m      4\u001b[0m \u001b[0;32mfrom\u001b[0m \u001b[0mtopology\u001b[0m\u001b[0;34m.\u001b[0m\u001b[0mutils\u001b[0m\u001b[0;34m.\u001b[0m\u001b[0mdata_processing\u001b[0m \u001b[0;32mimport\u001b[0m \u001b[0mload_ml100k\u001b[0m\u001b[0;34m,\u001b[0m \u001b[0mload_yelp\u001b[0m\u001b[0;34m\u001b[0m\u001b[0;34m\u001b[0m\u001b[0m\n\u001b[1;32m      5\u001b[0m \u001b[0;34m\u001b[0m\u001b[0m\n",
      "\u001b[0;32m~/git/topo/topology/topology/sims/base.py\u001b[0m in \u001b[0;36m<module>\u001b[0;34m\u001b[0m\n\u001b[1;32m      1\u001b[0m \u001b[0;32mimport\u001b[0m \u001b[0mnumpy\u001b[0m \u001b[0;32mas\u001b[0m \u001b[0mnp\u001b[0m\u001b[0;34m\u001b[0m\u001b[0;34m\u001b[0m\u001b[0m\n\u001b[0;32m----> 2\u001b[0;31m \u001b[0;32mfrom\u001b[0m \u001b[0mtopology\u001b[0m\u001b[0;34m.\u001b[0m\u001b[0mcython\u001b[0m \u001b[0;32mimport\u001b[0m \u001b[0mtop_funcs\u001b[0m\u001b[0;34m\u001b[0m\u001b[0;34m\u001b[0m\u001b[0m\n\u001b[0m\u001b[1;32m      3\u001b[0m \u001b[0;32mfrom\u001b[0m \u001b[0mtopology\u001b[0m\u001b[0;34m.\u001b[0m\u001b[0mproperties\u001b[0m \u001b[0;32mimport\u001b[0m \u001b[0;34m*\u001b[0m\u001b[0;34m\u001b[0m\u001b[0;34m\u001b[0m\u001b[0m\n\u001b[1;32m      4\u001b[0m \u001b[0;31m#from topology.topologies.topologies import *\u001b[0m\u001b[0;34m\u001b[0m\u001b[0;34m\u001b[0m\u001b[0;34m\u001b[0m\u001b[0m\n\u001b[1;32m      5\u001b[0m \u001b[0;32mfrom\u001b[0m \u001b[0mtopology\u001b[0m\u001b[0;34m.\u001b[0m\u001b[0mutils\u001b[0m\u001b[0;34m.\u001b[0m\u001b[0mdata_processing\u001b[0m \u001b[0;32mimport\u001b[0m \u001b[0;34m*\u001b[0m\u001b[0;34m\u001b[0m\u001b[0;34m\u001b[0m\u001b[0m\n",
      "\u001b[0;31mImportError\u001b[0m: cannot import name 'top_funcs' from 'topology.cython' (unknown location)"
     ]
    }
   ],
   "source": [
    "from topology.sims.base import TopologySim\n",
    "from topology.privacy.PrivacyModule import *\n",
    "from topology.topologies.new_topologies import *#FederatedStarTopology,FixedHierarchicalFederatedLearningTopology,RandomWalkTopology\n",
    "from topology.utils.data_processing import load_ml100k, load_yelp\n",
    "\n",
    "dataset=load_ml100k(split_type='leave_one_out')\n",
    "\n",
    "topologies = [\n",
    "    #FederatedTopology(K=0.1),\n",
    "    #FixedHierarchicalFederatedLearningTopology(K=0.1, n_sub_servers=5),\n",
    "    RandomWalkTopology(n_walks=10, walk_length=10),\n",
    "    #erverlessRandomWalkTopology(density=0.01)\n",
    "    #ixedHierarchicalFederatedLearningTopology(3,0.1)\n",
    "]\n",
    "\n",
    "names = [\n",
    "    #'FL', 'ARW', \n",
    "    'GL',\n",
    "]\n",
    "\n",
    "results = []\n",
    "\n",
    "for name,topology in zip(names,topologies):\n",
    "    \n",
    "    sim = TopologySim(max_steps=200 if name == 'FL' else 200 ,\n",
    "                    privacy_module=PrivacyModule(None, 1.0),\n",
    "                    num_threads=72, \n",
    "                    validate=True,\n",
    "                    E=5,\n",
    "                    verbose=True,\n",
    "                    lr=0.05,\n",
    "                    reg=0.01,\n",
    "                    evaluation_step=1, \n",
    "                    update_prob=0.5)\n",
    "    \n",
    "    \n",
    "    results.append(sim.fit(dataset, topology))\n",
    "\n"
   ]
  },
  {
   "cell_type": "code",
   "execution_count": null,
   "metadata": {},
   "outputs": [],
   "source": [
    "from matplotlib import pyplot as plt\n",
    "%matplotlib inline\n",
    "for result, name in zip(results, names):\n",
    "    \n",
    "    plt.plot(result['data-sent'],result['recall'],label=name)\n",
    "plt.xlabel('Communication-cost')\n",
    "plt.ylabel('HitRatio@10')\n",
    "plt.legend()\n",
    "plt.show()"
   ]
  },
  {
   "cell_type": "code",
   "execution_count": null,
   "metadata": {},
   "outputs": [],
   "source": [
    "from matplotlib import pyplot as plt\n",
    "%matplotlib inline\n",
    "for result, name in zip(results, names):\n",
    "    \n",
    "    com_cost = [i for idx, i in enumerate(result['attack-success'])]\n",
    "    \n",
    "    plt.plot(np.arange(len(com_cost)), com_cost,label=name)\n",
    "plt.xlabel('Communication-cost')\n",
    "plt.ylabel('HitRatio@10')\n",
    "plt.legend()\n",
    "plt.show()"
   ]
  },
  {
   "cell_type": "code",
   "execution_count": null,
   "metadata": {},
   "outputs": [],
   "source": []
  }
 ],
 "metadata": {
  "kernelspec": {
   "display_name": "Python 3",
   "language": "python",
   "name": "python3"
  },
  "language_info": {
   "codemirror_mode": {
    "name": "ipython",
    "version": 3
   },
   "file_extension": ".py",
   "mimetype": "text/x-python",
   "name": "python",
   "nbconvert_exporter": "python",
   "pygments_lexer": "ipython3",
   "version": "3.8.5"
  }
 },
 "nbformat": 4,
 "nbformat_minor": 2
}
